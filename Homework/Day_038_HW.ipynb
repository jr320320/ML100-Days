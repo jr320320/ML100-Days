{
 "cells": [
  {
   "cell_type": "markdown",
   "metadata": {},
   "source": [
    "## 練習時間\n",
    "試著使用 sklearn datasets 的其他資料集 (wine, boston, ...)，來訓練自己的線性迴歸模型。"
   ]
  },
  {
   "cell_type": "markdown",
   "metadata": {},
   "source": [
    "### HINT: 注意 label 的型態，確定資料集的目標是分類還是回歸，在使用正確的模型訓練！"
   ]
  },
  {
   "cell_type": "code",
   "execution_count": 12,
   "metadata": {},
   "outputs": [],
   "source": [
    "from sklearn.datasets import load_boston, load_wine\n",
    "from sklearn.linear_model import LinearRegression, LogisticRegression\n",
    "from sklearn.model_selection import train_test_split\n",
    "from sklearn.metrics import mean_squared_error, r2_score, accuracy_score\n",
    "\n",
    "import matplotlib.pyplot as plt"
   ]
  },
  {
   "cell_type": "code",
   "execution_count": 5,
   "metadata": {},
   "outputs": [],
   "source": [
    "# Load Boston data\n",
    "boston = load_boston()\n",
    "\n",
    "# split train dataset/ test dataset\n",
    "x_train, x_test, y_train, y_test = train_test_split(boston.data, boston.target, test_size=0.1, random_state=4)\n",
    "\n",
    "# create model\n",
    "regr = LinearRegression()\n",
    "\n",
    "# train data\n",
    "regr.fit(x_train, y_train)\n",
    "\n",
    "# predict by using test dataset \n",
    "y_pred = regr.predict(x_test)"
   ]
  },
  {
   "cell_type": "code",
   "execution_count": 9,
   "metadata": {},
   "outputs": [
    {
     "name": "stdout",
     "output_type": "stream",
     "text": [
      "Coefficients:  [[-5.88852656e-01  6.67300827e-01  1.00960693e+00 -5.80989219e-01\n",
      "  -3.55178256e-02  3.62071144e-01  1.18894658e+00  3.78340624e-03\n",
      "  -4.54784892e-01 -1.53560698e-01 -1.62107824e-01  9.11550191e-01\n",
      "   1.77906683e-02]\n",
      " [ 9.31771389e-01 -1.08459849e+00 -7.53390627e-01  2.41931110e-01\n",
      "   1.24181909e-02  3.53858216e-02  5.76719638e-01  5.39359650e-01\n",
      "   6.06710292e-01 -1.86151560e+00  9.52831552e-01  7.69014213e-02\n",
      "  -1.44579779e-02]\n",
      " [-3.44877619e-01  6.57378630e-01  3.90432260e-02  1.20175740e-01\n",
      "   1.94696375e-02 -6.60620544e-01 -1.84324382e+00 -9.24618142e-02\n",
      "  -6.79666411e-01  1.08773341e+00 -4.94768310e-01 -1.20152083e+00\n",
      "   2.92068606e-04]]\n",
      "Mean squared error: 0.06\n"
     ]
    }
   ],
   "source": [
    "# 可以看回歸模型的參數值\n",
    "print('Coefficients: ', regr.coef_)\n",
    "\n",
    "# 預測值與實際值的差距，使用 MSE\n",
    "print(\"Mean squared error: %.2f\"\n",
    "      % mean_squared_error(y_test, y_pred))"
   ]
  },
  {
   "cell_type": "code",
   "execution_count": 10,
   "metadata": {},
   "outputs": [
    {
     "data": {
      "text/plain": [
       "(18,)"
      ]
     },
     "execution_count": 10,
     "metadata": {},
     "output_type": "execute_result"
    }
   ],
   "source": [
    "y_test.shape"
   ]
  },
  {
   "cell_type": "code",
   "execution_count": 7,
   "metadata": {},
   "outputs": [],
   "source": [
    "# Load wine  data\n",
    "wine = load_wine()\n",
    "\n",
    "# split train dataset/ test dataset\n",
    "x_train, x_test, y_train, y_test = train_test_split(wine.data, wine.target, test_size=0.1, random_state=4)\n",
    "\n",
    "# create model\n",
    "regr = LogisticRegression()\n",
    "\n",
    "# train data\n",
    "regr.fit(x_train, y_train)\n",
    "\n",
    "# predict by using test dataset \n",
    "y_pred = regr.predict(x_test)"
   ]
  },
  {
   "cell_type": "code",
   "execution_count": 8,
   "metadata": {},
   "outputs": [
    {
     "name": "stdout",
     "output_type": "stream",
     "text": [
      "Accuracy:  0.9444444444444444\n"
     ]
    }
   ],
   "source": [
    "acc = accuracy_score(y_test, y_pred)\n",
    "print(\"Accuracy: \", acc)"
   ]
  }
 ],
 "metadata": {
  "kernelspec": {
   "display_name": "Python 3",
   "language": "python",
   "name": "python3"
  },
  "language_info": {
   "codemirror_mode": {
    "name": "ipython",
    "version": 3
   },
   "file_extension": ".py",
   "mimetype": "text/x-python",
   "name": "python",
   "nbconvert_exporter": "python",
   "pygments_lexer": "ipython3",
   "version": "3.6.5"
  }
 },
 "nbformat": 4,
 "nbformat_minor": 2
}
